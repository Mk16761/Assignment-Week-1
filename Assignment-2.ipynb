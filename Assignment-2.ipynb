{
 "cells": [
  {
   "cell_type": "code",
   "execution_count": 3,
   "id": "e695121a-0768-43df-99da-331c3bfd98a3",
   "metadata": {},
   "outputs": [],
   "source": [
    "#Q1. How do you comment code in Python? What are the different types of comments?"
   ]
  },
  {
   "cell_type": "code",
   "execution_count": 7,
   "id": "65fb126b-db4a-4964-adf2-16d688b08d42",
   "metadata": {},
   "outputs": [
    {
     "data": {
      "text/plain": [
       "'\\nThis is a\\nmulti-line comment\\n'"
      ]
     },
     "execution_count": 7,
     "metadata": {},
     "output_type": "execute_result"
    }
   ],
   "source": [
    "# This is a single-line comment\n",
    "\n",
    "'''\n",
    "This is a\n",
    "multi-line comment\n",
    "'''\n",
    "\n"
   ]
  },
  {
   "cell_type": "code",
   "execution_count": 8,
   "id": "3964b958-574e-4805-af86-a3c28b1446c3",
   "metadata": {},
   "outputs": [],
   "source": [
    "# Q2. What are variables in Python? How do you declare and assign values to variables?"
   ]
  },
  {
   "cell_type": "code",
   "execution_count": 9,
   "id": "941e4285-ab58-4e92-be5d-39c0aead6baa",
   "metadata": {},
   "outputs": [],
   "source": [
    "# variables are used to store and manipulate data\n",
    "\n",
    "#To declare a variable in Python, you simply choose a name for the variable and use the assignment operator (=) to assign a value to it.\n",
    "a= 10\n",
    "\n"
   ]
  },
  {
   "cell_type": "code",
   "execution_count": 10,
   "id": "4d71cea1-6e37-45b7-95fd-a8f1adfb943b",
   "metadata": {},
   "outputs": [],
   "source": [
    "# Q3. How do you convert one data type to another in Python?"
   ]
  },
  {
   "cell_type": "code",
   "execution_count": 11,
   "id": "5cef6b10-5958-4e2a-a022-d0219aebffbd",
   "metadata": {},
   "outputs": [
    {
     "name": "stdout",
     "output_type": "stream",
     "text": [
      "10\n"
     ]
    }
   ],
   "source": [
    "# We can convert one data type to another using type conversion functions or methods.\n",
    "\n",
    "a = \"10\"\n",
    "b = int(a)\n",
    "print(b)\n"
   ]
  },
  {
   "cell_type": "code",
   "execution_count": 12,
   "id": "56cbcce1-0f07-49ae-9a92-a3c39e3cf46a",
   "metadata": {},
   "outputs": [],
   "source": [
    "# Q4. How do you write and execute a Python script from the command line?"
   ]
  },
  {
   "cell_type": "code",
   "execution_count": 15,
   "id": "54441ebb-8e12-4277-bb64-6a0cbc42cc74",
   "metadata": {},
   "outputs": [],
   "source": [
    "#in command prompt we can selct folder where we have saved our file by this command \n",
    "#cd Documents\n",
    "\n",
    "# and open the file by this command python filename.py\n"
   ]
  },
  {
   "cell_type": "code",
   "execution_count": 16,
   "id": "884cf2ec-48db-413d-8a14-50ad42be1481",
   "metadata": {},
   "outputs": [],
   "source": [
    "# Q5. Given a list my_list = [1, 2, 3, 4, 5], write the code to slice the list and obtain the sub-list [2, 3]."
   ]
  },
  {
   "cell_type": "code",
   "execution_count": 17,
   "id": "6dd66fb5-6f3d-4289-921f-957d34e80693",
   "metadata": {},
   "outputs": [
    {
     "name": "stdout",
     "output_type": "stream",
     "text": [
      "[2, 3]\n"
     ]
    }
   ],
   "source": [
    "my_list = [1, 2, 3, 4, 5]\n",
    "\n",
    "sub_list = my_list[1:3]\n",
    "\n",
    "print(sub_list)\n"
   ]
  },
  {
   "cell_type": "code",
   "execution_count": 18,
   "id": "ad30e451-ae37-4d3e-acf1-3d9d4ef91d0e",
   "metadata": {},
   "outputs": [],
   "source": [
    "# Q6. What is a complex number in mathematics, and how is it represented in Python?"
   ]
  },
  {
   "cell_type": "code",
   "execution_count": 20,
   "id": "a2fceb34-49f5-44d6-b540-f9bacb00d3ec",
   "metadata": {},
   "outputs": [],
   "source": [
    "# a complex number is a number that comprises both a real part and an imaginary part. It is represented in the form \"a + bi\", where \"a\" is the real part, \"b\" is the imaginary part, and \"i\" represents the imaginary unit\n",
    "# Complex numbers\n",
    "a = 2 + 3j\n",
    "b = 4 - 5j\n"
   ]
  },
  {
   "cell_type": "code",
   "execution_count": 21,
   "id": "bc6bffc4-c5d0-4ab7-9b71-6863e7bca739",
   "metadata": {},
   "outputs": [],
   "source": [
    "# Q7. What is the correct way to declare a variable named age and assign the value 25 to it?"
   ]
  },
  {
   "cell_type": "code",
   "execution_count": 22,
   "id": "00af77db-1eda-433c-8c35-6947fdfc9300",
   "metadata": {},
   "outputs": [],
   "source": [
    "age = 25\n"
   ]
  },
  {
   "cell_type": "code",
   "execution_count": 24,
   "id": "6fa69689-1fa5-4699-85e9-2affdbee422a",
   "metadata": {},
   "outputs": [],
   "source": [
    "# Q8. Declare a variable named price and assign the value 9.99 to it. What data type does this variable\n",
    "#belong to?"
   ]
  },
  {
   "cell_type": "code",
   "execution_count": 25,
   "id": "3e378a46-08b6-4b73-90bd-69ae77460baf",
   "metadata": {},
   "outputs": [
    {
     "data": {
      "text/plain": [
       "float"
      ]
     },
     "execution_count": 25,
     "metadata": {},
     "output_type": "execute_result"
    }
   ],
   "source": [
    "price = 9.99\n",
    "type(price)"
   ]
  },
  {
   "cell_type": "code",
   "execution_count": 26,
   "id": "c9ae4c89-2b59-4346-82f3-23246ec74e1a",
   "metadata": {},
   "outputs": [],
   "source": [
    "# Q9. Create a variable named name and assign your full name to it as a string. How would you print the\n",
    "# value of this variable?"
   ]
  },
  {
   "cell_type": "code",
   "execution_count": 27,
   "id": "d55b619b-fe62-4dbd-b423-91844c1a248d",
   "metadata": {},
   "outputs": [
    {
     "name": "stdout",
     "output_type": "stream",
     "text": [
      "Mukesh Kumar\n"
     ]
    }
   ],
   "source": [
    "name = \"Mukesh Kumar\"\n",
    "print(name)"
   ]
  },
  {
   "cell_type": "code",
   "execution_count": 28,
   "id": "955e573e-00c6-4d67-9c7f-8cc387a4333b",
   "metadata": {},
   "outputs": [],
   "source": [
    "# Q10. Given the string \"Hello, World!\", extract the substring \"World\"."
   ]
  },
  {
   "cell_type": "code",
   "execution_count": 30,
   "id": "3fcd76df-2da5-406f-948a-b4c70109663f",
   "metadata": {},
   "outputs": [
    {
     "data": {
      "text/plain": [
       "'World'"
      ]
     },
     "execution_count": 30,
     "metadata": {},
     "output_type": "execute_result"
    }
   ],
   "source": [
    "a = \"Hello World\"\n",
    "a[6:11]"
   ]
  },
  {
   "cell_type": "code",
   "execution_count": 31,
   "id": "a67768c3-fce1-452c-aad2-d4ddcf01dfc8",
   "metadata": {},
   "outputs": [],
   "source": [
    "# Q11. Create a variable named \"is_student\" and assign it a boolean value indicating whether you are\n",
    "# currently a student or not."
   ]
  },
  {
   "cell_type": "code",
   "execution_count": 32,
   "id": "f6c74201-d070-48ed-9438-1d3911d40e3b",
   "metadata": {},
   "outputs": [],
   "source": [
    "is_student = True\n",
    "is_student = False\n"
   ]
  },
  {
   "cell_type": "code",
   "execution_count": null,
   "id": "d8e15b1f-db3b-47e0-b8e1-f0967390c0e5",
   "metadata": {},
   "outputs": [],
   "source": []
  }
 ],
 "metadata": {
  "kernelspec": {
   "display_name": "Python 3 (ipykernel)",
   "language": "python",
   "name": "python3"
  },
  "language_info": {
   "codemirror_mode": {
    "name": "ipython",
    "version": 3
   },
   "file_extension": ".py",
   "mimetype": "text/x-python",
   "name": "python",
   "nbconvert_exporter": "python",
   "pygments_lexer": "ipython3",
   "version": "3.10.6"
  }
 },
 "nbformat": 4,
 "nbformat_minor": 5
}
