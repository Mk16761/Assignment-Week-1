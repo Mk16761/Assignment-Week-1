{
 "cells": [
  {
   "cell_type": "code",
   "execution_count": 1,
   "id": "971c80ad-2353-45d4-aad6-2ac045167e05",
   "metadata": {},
   "outputs": [],
   "source": [
    "# Q1. Explain Class and Object with respect to Object-Oriented Programming. Give a suitable example."
   ]
  },
  {
   "cell_type": "code",
   "execution_count": 4,
   "id": "26678940-6076-4cb9-aab2-b8ff0e590cf5",
   "metadata": {},
   "outputs": [
    {
     "name": "stdout",
     "output_type": "stream",
     "text": [
      "John\n",
      "25\n",
      "Hello, my name is John and I am 25 years old.\n"
     ]
    }
   ],
   "source": [
    "class Person:\n",
    "    def __init__(self, name, age):\n",
    "        self.name = name\n",
    "        self.age = age\n",
    "\n",
    "    def greet(self):\n",
    "        print(f\"Hello, my name is {self.name} and I am {self.age} years old.\")\n",
    "\n",
    "# Creating an object/instance of the Person class\n",
    "person1 = Person(\"John\", 25)\n",
    "\n",
    "# Accessing object attributes\n",
    "print(person1.name)\n",
    "print(person1.age)\n",
    "\n",
    "# Calling object methods\n",
    "person1.greet()\n"
   ]
  },
  {
   "cell_type": "code",
   "execution_count": 5,
   "id": "cc744dd3-3c44-4680-82c9-8ca60457b6e6",
   "metadata": {},
   "outputs": [],
   "source": [
    "# Q2. Name the four pillars of OOPs."
   ]
  },
  {
   "cell_type": "code",
   "execution_count": 6,
   "id": "1b3f4444-c4fc-4d7b-8383-6699dcd6b1e5",
   "metadata": {},
   "outputs": [],
   "source": [
    "# The four pillars of object-oriented programming (OOP) are:\n",
    "\n",
    "#Encapsulation\n",
    "#Inheritance\n",
    "#Polymorphism\n",
    "#Abstraction"
   ]
  },
  {
   "cell_type": "code",
   "execution_count": 7,
   "id": "ee390d85-2ad2-4f94-b75d-b9ab433a4c3d",
   "metadata": {},
   "outputs": [],
   "source": [
    "# Q3. Explain why the __init__() function is used. Give a suitable example."
   ]
  },
  {
   "cell_type": "code",
   "execution_count": 9,
   "id": "5037b911-d76b-4b04-8a72-656c2eb7b0b0",
   "metadata": {},
   "outputs": [
    {
     "name": "stdout",
     "output_type": "stream",
     "text": [
      "5\n",
      "3\n",
      "15\n",
      "16\n"
     ]
    }
   ],
   "source": [
    "# The __init__() function is a special method in Python classes that is automatically called when an object of the class is created. It is used to initialize the attributes (properties) of the object.\n",
    "\n",
    "class Rectangle:\n",
    "    def __init__(self, width, height):\n",
    "        self.width = width\n",
    "        self.height = height\n",
    "\n",
    "    def area(self):\n",
    "        return self.width * self.height\n",
    "\n",
    "    def perimeter(self):\n",
    "        return 2 * (self.width + self.height)\n",
    "\n",
    "# Creating an object of the Rectangle class\n",
    "rectangle1 = Rectangle(5, 3)\n",
    "\n",
    "# Accessing object attributes\n",
    "print(rectangle1.width) \n",
    "print(rectangle1.height)\n",
    "\n",
    "# Calling object methods\n",
    "print(rectangle1.area())\n",
    "print(rectangle1.perimeter())\n"
   ]
  },
  {
   "cell_type": "code",
   "execution_count": 10,
   "id": "f771c18b-654d-4a18-ad00-601b0c80692f",
   "metadata": {},
   "outputs": [],
   "source": [
    "# Q4. Why self is used in OOPs?"
   ]
  },
  {
   "cell_type": "code",
   "execution_count": 11,
   "id": "bf121637-cca1-48ff-acbc-90f5cc5a136d",
   "metadata": {},
   "outputs": [],
   "source": [
    "# The use of self allows different instances of a class to have their own separate data \n",
    "#and behavior. When a method is called on an object, self is automatically passed as the \n",
    "#first argument to the method, allowing the method to operate on the \n",
    "#specific instance (object) it was called on.\n",
    "\n"
   ]
  },
  {
   "cell_type": "code",
   "execution_count": 12,
   "id": "5ba04473-4ecf-4282-aef5-c87e53ad2f99",
   "metadata": {},
   "outputs": [],
   "source": [
    "# Q5. What is inheritance? Give an example for each type of inheritance."
   ]
  },
  {
   "cell_type": "code",
   "execution_count": 13,
   "id": "fef4e758-9df1-4907-b2ec-7b14d69abf7c",
   "metadata": {},
   "outputs": [],
   "source": [
    "# Inheritance is a fundamental concept in object-oriented programming (OOP) that allows a class to inherit properties (attributes) and behaviors (methods) from another class. The class that inherits is called the derived class, \n",
    "#and the class from which it inherits is called the base class or superclass.\n",
    "\n"
   ]
  },
  {
   "cell_type": "code",
   "execution_count": 15,
   "id": "bc7bf866-1176-45ed-84ac-e53ae4cb19e0",
   "metadata": {},
   "outputs": [
    {
     "name": "stdout",
     "output_type": "stream",
     "text": [
      "Driving a vehicle.\n",
      "Parking the car.\n"
     ]
    }
   ],
   "source": [
    "#Single Inheritance:\n",
    "class Vehicle:\n",
    "    def drive(self):\n",
    "        print(\"Driving a vehicle.\")\n",
    "\n",
    "class Car(Vehicle):\n",
    "    def park(self):\n",
    "        print(\"Parking the car.\")\n",
    "\n",
    "car = Car()\n",
    "car.drive()\n",
    "car.park() \n"
   ]
  },
  {
   "cell_type": "code",
   "execution_count": 17,
   "id": "2784e66c-39cb-413e-b91a-01fc97f7f808",
   "metadata": {},
   "outputs": [
    {
     "name": "stdout",
     "output_type": "stream",
     "text": [
      "Breathing.\n",
      "Walking.\n",
      "Barking.\n"
     ]
    }
   ],
   "source": [
    "# Multilevel Inheritance\n",
    "class Animal:\n",
    "    def breathe(self):\n",
    "        print(\"Breathing.\")\n",
    "\n",
    "class Mammal(Animal):\n",
    "    def walk(self):\n",
    "        print(\"Walking.\")\n",
    "\n",
    "class Dog(Mammal):\n",
    "    def bark(self):\n",
    "        print(\"Barking.\")\n",
    "\n",
    "dog = Dog()\n",
    "dog.breathe() \n",
    "dog.walk()    \n",
    "dog.bark() \n"
   ]
  },
  {
   "cell_type": "code",
   "execution_count": null,
   "id": "780bb04f-4a78-4ce6-a6ad-6a322f8a31a3",
   "metadata": {},
   "outputs": [],
   "source": []
  }
 ],
 "metadata": {
  "kernelspec": {
   "display_name": "Python 3 (ipykernel)",
   "language": "python",
   "name": "python3"
  },
  "language_info": {
   "codemirror_mode": {
    "name": "ipython",
    "version": 3
   },
   "file_extension": ".py",
   "mimetype": "text/x-python",
   "name": "python",
   "nbconvert_exporter": "python",
   "pygments_lexer": "ipython3",
   "version": "3.10.6"
  }
 },
 "nbformat": 4,
 "nbformat_minor": 5
}
