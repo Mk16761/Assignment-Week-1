{
 "cells": [
  {
   "cell_type": "code",
   "execution_count": 1,
   "id": "3bb887b0-dd34-4696-b247-db7aae50613b",
   "metadata": {},
   "outputs": [],
   "source": [
    "#Q1. What is Abstraction in OOps? Explain with an example."
   ]
  },
  {
   "cell_type": "code",
   "execution_count": 2,
   "id": "0477fe21-d413-4852-9ccd-52523e63aefd",
   "metadata": {},
   "outputs": [],
   "source": [
    "#Abstraction is a fundamental concept in object-oriented programming (OOP) that involves representing the essential features of an object while hiding the complex details of its implementation. It focuses on capturing the core characteristics and behaviors of an entity, without exposing the underlying complexity.\n"
   ]
  },
  {
   "cell_type": "code",
   "execution_count": 3,
   "id": "da6d78d1-cbbe-4f7b-91d9-99c7fe4ea13e",
   "metadata": {},
   "outputs": [
    {
     "name": "stdout",
     "output_type": "stream",
     "text": [
      "24\n",
      "20\n",
      "78.5\n",
      "31.400000000000002\n"
     ]
    }
   ],
   "source": [
    "from abc import ABC, abstractmethod\n",
    "\n",
    "class Shape(ABC):\n",
    "    @abstractmethod\n",
    "    def area(self):\n",
    "        pass\n",
    "\n",
    "    @abstractmethod\n",
    "    def perimeter(self):\n",
    "        pass\n",
    "\n",
    "class Rectangle(Shape):\n",
    "    def __init__(self, length, width):\n",
    "        self.length = length\n",
    "        self.width = width\n",
    "\n",
    "    def area(self):\n",
    "        return self.length * self.width\n",
    "\n",
    "    def perimeter(self):\n",
    "        return 2 * (self.length + self.width)\n",
    "\n",
    "class Circle(Shape):\n",
    "    def __init__(self, radius):\n",
    "        self.radius = radius\n",
    "\n",
    "    def area(self):\n",
    "        return 3.14 * self.radius ** 2\n",
    "\n",
    "    def perimeter(self):\n",
    "        return 2 * 3.14 * self.radius\n",
    "\n",
    "# Creating objects of derived classes\n",
    "rectangle = Rectangle(4, 6)\n",
    "circle = Circle(5)\n",
    "\n",
    "# Calling abstract methods\n",
    "print(rectangle.area())     # Output: 24\n",
    "print(rectangle.perimeter())  # Output: 20\n",
    "print(circle.area())        # Output: 78.5\n",
    "print(circle.perimeter())   # Output: 31.400000000000002\n"
   ]
  },
  {
   "cell_type": "code",
   "execution_count": 4,
   "id": "3d9a44cf-dcb2-4105-b5ce-a39d26a2316a",
   "metadata": {},
   "outputs": [],
   "source": [
    "# Q2. Differentiate between Abstraction and Encapsulation. Explain with an example."
   ]
  },
  {
   "cell_type": "code",
   "execution_count": 5,
   "id": "07e6402e-22a8-49df-86fe-1356bfa5fc51",
   "metadata": {},
   "outputs": [
    {
     "name": "stdout",
     "output_type": "stream",
     "text": [
      "Bark\n",
      "Meow\n"
     ]
    }
   ],
   "source": [
    "#Abstraction:\n",
    "\n",
    "#Abstraction focuses on capturing the essential features and behaviors of an object while hiding the implementation details.\n",
    "\n",
    "from abc import ABC, abstractmethod\n",
    "\n",
    "class Animal(ABC):\n",
    "    @abstractmethod\n",
    "    def make_sound(self):\n",
    "        pass\n",
    "\n",
    "class Dog(Animal):\n",
    "    def make_sound(self):\n",
    "        print(\"Bark\")\n",
    "\n",
    "class Cat(Animal):\n",
    "    def make_sound(self):\n",
    "        print(\"Meow\")\n",
    "\n",
    "dog = Dog()\n",
    "dog.make_sound() \n",
    "\n",
    "cat = Cat()\n",
    "cat.make_sound() \n"
   ]
  },
  {
   "cell_type": "code",
   "execution_count": 7,
   "id": "ff6081c7-779c-472b-a263-a411e2b2fa0a",
   "metadata": {},
   "outputs": [
    {
     "name": "stdout",
     "output_type": "stream",
     "text": [
      "Toyota\n",
      "Camry\n",
      "2022\n"
     ]
    }
   ],
   "source": [
    "# Encapsulation is about bundling the data (attributes) and methods (behaviors) of an object into a single unit, known as a class.\n",
    "\n",
    "class Car:\n",
    "    def __init__(self, make, model, year):\n",
    "        self.__make = make\n",
    "        self.__model = model\n",
    "        self.__year = year\n",
    "\n",
    "    def get_make(self):\n",
    "        return self.__make\n",
    "\n",
    "    def get_model(self):\n",
    "        return self.__model\n",
    "\n",
    "    def get_year(self):\n",
    "        return self.__year\n",
    "\n",
    "car = Car(\"Toyota\", \"Camry\", 2022)\n",
    "print(car.get_make())  \n",
    "print(car.get_model())  \n",
    "print(car.get_year())  \n"
   ]
  },
  {
   "cell_type": "code",
   "execution_count": 8,
   "id": "50acbdb2-c15b-4db1-91d4-0dd024fcc1bc",
   "metadata": {},
   "outputs": [],
   "source": [
    "# Q3. What is abc module in python? Why is it used?"
   ]
  },
  {
   "cell_type": "code",
   "execution_count": 9,
   "id": "3bc3aba9-e009-48e4-b04a-7940f87dd952",
   "metadata": {},
   "outputs": [
    {
     "data": {
      "text/plain": [
       "'\\nThe abc module and abstract base classes are used for the following purposes:\\n\\nDefining Interface: Abstract base classes define a common interface that derived classes must adhere to. This helps in establishing a contract among classes, ensuring that they provide certain methods or attributes. It allows for better code organization, modularity, and code reuse.\\n\\nPolymorphism: Abstract base classes enable polymorphism by allowing objects of different classes to be treated as objects of a common base class. This allows for writing generic code that can work with objects of different derived classes as long as they implement the required methods defined in the abstract base class.\\n\\nType Checking: Abstract base classes can be used for type checking, allowing you to specify that a variable should be of a certain abstract base class type. This helps in enforcing a certain structure or behavior on the objects assigned to the variable.\\n'"
      ]
     },
     "execution_count": 9,
     "metadata": {},
     "output_type": "execute_result"
    }
   ],
   "source": [
    "#An abstract base class is a class that cannot be instantiated and is meant to serve as a blueprint for other classes. It defines a common interface or set of methods that derived classes must implement. Abstract base classes can be used to enforce a certain structure or contract among classes, ensuring that they have specific methods or attributes.\n",
    "\n",
    "'''\n",
    "The abc module and abstract base classes are used for the following purposes:\n",
    "\n",
    "Defining Interface: Abstract base classes define a common interface that derived classes must adhere to. This helps in establishing a contract among classes, ensuring that they provide certain methods or attributes. It allows for better code organization, modularity, and code reuse.\n",
    "\n",
    "Polymorphism: Abstract base classes enable polymorphism by allowing objects of different classes to be treated as objects of a common base class. This allows for writing generic code that can work with objects of different derived classes as long as they implement the required methods defined in the abstract base class.\n",
    "\n",
    "Type Checking: Abstract base classes can be used for type checking, allowing you to specify that a variable should be of a certain abstract base class type. This helps in enforcing a certain structure or behavior on the objects assigned to the variable.\n",
    "'''"
   ]
  },
  {
   "cell_type": "code",
   "execution_count": 10,
   "id": "c1ebc93c-bb6c-4530-b8b4-d70830eb1326",
   "metadata": {},
   "outputs": [],
   "source": [
    "# Q4. How can we achieve data abstraction?"
   ]
  },
  {
   "cell_type": "code",
   "execution_count": 11,
   "id": "1a06ee0b-cc8b-49d8-997b-7f685c4217c3",
   "metadata": {},
   "outputs": [
    {
     "name": "stdout",
     "output_type": "stream",
     "text": [
      "123456789\n",
      "1000\n",
      "1500\n",
      "Insufficient balance.\n"
     ]
    }
   ],
   "source": [
    "class BankAccount:\n",
    "    def __init__(self, account_number, balance):\n",
    "        self._account_number = account_number\n",
    "        self._balance = balance\n",
    "\n",
    "    def get_account_number(self):\n",
    "        return self._account_number\n",
    "\n",
    "    def get_balance(self):\n",
    "        return self._balance\n",
    "\n",
    "    def deposit(self, amount):\n",
    "        self._balance += amount\n",
    "\n",
    "    def withdraw(self, amount):\n",
    "        if amount <= self._balance:\n",
    "            self._balance -= amount\n",
    "        else:\n",
    "            print(\"Insufficient balance.\")\n",
    "\n",
    "# Create an object of BankAccount\n",
    "account = BankAccount(\"123456789\", 1000)\n",
    "\n",
    "# Access attributes using getter methods\n",
    "print(account.get_account_number())  # Output: 123456789\n",
    "print(account.get_balance())        # Output: 1000\n",
    "\n",
    "# Use methods to perform operations\n",
    "account.deposit(500)\n",
    "print(account.get_balance())        # Output: 1500\n",
    "\n",
    "account.withdraw(2000)  # Output: Insufficient balance.\n"
   ]
  },
  {
   "cell_type": "code",
   "execution_count": 12,
   "id": "02d51821-9340-4178-9559-527f1c590555",
   "metadata": {},
   "outputs": [],
   "source": [
    "#Q5. Can we create an instance of an abstract class? Explain your answer."
   ]
  },
  {
   "cell_type": "code",
   "execution_count": 13,
   "id": "f25ef744-1e04-451e-bf15-b0c4a69e7a8a",
   "metadata": {},
   "outputs": [],
   "source": [
    "#No, we cannot create an instance of an abstract class in Python. An abstract class is a class that cannot be instantiated directly. It is designed to serve as a blueprint for other classes and provide a common interface or set of methods that derived classes must implement."
   ]
  },
  {
   "cell_type": "code",
   "execution_count": 14,
   "id": "0305891c-e58a-4387-9cb4-b1ac636d3e26",
   "metadata": {},
   "outputs": [
    {
     "ename": "TypeError",
     "evalue": "Can't instantiate abstract class AbstractClass with abstract method abstract_method",
     "output_type": "error",
     "traceback": [
      "\u001b[0;31m---------------------------------------------------------------------------\u001b[0m",
      "\u001b[0;31mTypeError\u001b[0m                                 Traceback (most recent call last)",
      "Cell \u001b[0;32mIn [14], line 9\u001b[0m\n\u001b[1;32m      6\u001b[0m         \u001b[38;5;28;01mpass\u001b[39;00m\n\u001b[1;32m      8\u001b[0m \u001b[38;5;66;03m# Trying to create an instance of the abstract class\u001b[39;00m\n\u001b[0;32m----> 9\u001b[0m obj \u001b[38;5;241m=\u001b[39m \u001b[43mAbstractClass\u001b[49m\u001b[43m(\u001b[49m\u001b[43m)\u001b[49m\n",
      "\u001b[0;31mTypeError\u001b[0m: Can't instantiate abstract class AbstractClass with abstract method abstract_method"
     ]
    }
   ],
   "source": [
    "from abc import ABC, abstractmethod\n",
    "\n",
    "class AbstractClass(ABC):\n",
    "    @abstractmethod\n",
    "    def abstract_method(self):\n",
    "        pass\n",
    "\n",
    "# Trying to create an instance of the abstract class\n",
    "obj = AbstractClass()\n"
   ]
  },
  {
   "cell_type": "code",
   "execution_count": null,
   "id": "48b313ef-42fd-44ff-aa7e-05dd35c44b1c",
   "metadata": {},
   "outputs": [],
   "source": []
  }
 ],
 "metadata": {
  "kernelspec": {
   "display_name": "Python 3 (ipykernel)",
   "language": "python",
   "name": "python3"
  },
  "language_info": {
   "codemirror_mode": {
    "name": "ipython",
    "version": 3
   },
   "file_extension": ".py",
   "mimetype": "text/x-python",
   "name": "python",
   "nbconvert_exporter": "python",
   "pygments_lexer": "ipython3",
   "version": "3.10.6"
  }
 },
 "nbformat": 4,
 "nbformat_minor": 5
}
