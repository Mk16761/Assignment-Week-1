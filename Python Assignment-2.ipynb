{
 "cells": [
  {
   "cell_type": "code",
   "execution_count": 1,
   "id": "1de1c3ff-86ee-4f1b-b75e-216e6c04b161",
   "metadata": {},
   "outputs": [],
   "source": [
    "# Q1. Create a python program to sort the given list of tuples based on integer value using a\n",
    "#lambda function.\n",
    "#[('Sachin Tendulkar', 34357), ('Ricky Ponting', 27483), ('Jack Kallis', 25534), ('Virat Kohli', 24936)]"
   ]
  },
  {
   "cell_type": "code",
   "execution_count": 2,
   "id": "bfc6f13c-ec19-44cf-9f86-329326220852",
   "metadata": {},
   "outputs": [
    {
     "name": "stdout",
     "output_type": "stream",
     "text": [
      "('Virat Kohli', 24936)\n",
      "('Jack Kallis', 25534)\n",
      "('Ricky Ponting', 27483)\n",
      "('Sachin Tendulkar', 34357)\n"
     ]
    }
   ],
   "source": [
    "data = [('Sachin Tendulkar', 34357), ('Ricky Ponting', 27483), ('Jack Kallis', 25534), ('Virat Kohli', 24936)]\n",
    "\n",
    "sorted_data = sorted(data, key=lambda x: x[1])\n",
    "\n",
    "for item in sorted_data:\n",
    "    print(item)\n"
   ]
  },
  {
   "cell_type": "code",
   "execution_count": 3,
   "id": "2c41f03b-01ae-4df4-afff-20d5a0a26473",
   "metadata": {},
   "outputs": [],
   "source": [
    "# Q2. Write a Python Program to find the squares of all the numbers in the given list of integers using\n",
    "# lambda and map functions.\n",
    "# [1, 2, 3, 4, 5, 6, 7, 8, 9, 10]"
   ]
  },
  {
   "cell_type": "code",
   "execution_count": 6,
   "id": "4c3d7ee1-afcb-4ba4-939d-6b119d2d8ae4",
   "metadata": {},
   "outputs": [
    {
     "name": "stdout",
     "output_type": "stream",
     "text": [
      "[1, 4, 9, 16, 25, 36, 49, 64, 81, 100]\n"
     ]
    }
   ],
   "source": [
    "numbers = [1, 2, 3, 4, 5, 6, 7, 8, 9, 10]\n",
    "\n",
    "squares = list(map(lambda x : x**2, numbers))\n",
    "\n",
    "print(squares)"
   ]
  },
  {
   "cell_type": "code",
   "execution_count": 7,
   "id": "bbc983e0-5282-46af-b2e9-659c460af05e",
   "metadata": {},
   "outputs": [],
   "source": [
    "#Q3. Write a python program to convert the given list of integers into a tuple of strings. Use map and\n",
    "#lambda functions\n",
    "#Given String: [1, 2, 3, 4, 5, 6, 7, 8, 9, 10]\n",
    "#Expected output: ('1', '2', '3', '4', '5', '6', '7', '8', '9', '10')"
   ]
  },
  {
   "cell_type": "code",
   "execution_count": 11,
   "id": "105b6111-2e73-4c85-89d5-3502f7d9ffeb",
   "metadata": {},
   "outputs": [
    {
     "name": "stdout",
     "output_type": "stream",
     "text": [
      "('1', '2', '3', '4', '5', '6', '7', '8', '9', '10')\n"
     ]
    }
   ],
   "source": [
    "numbers = [1, 2, 3, 4, 5, 6, 7, 8, 9, 10]\n",
    "\n",
    "a = tuple(map(lambda x: str(x), numbers))\n",
    "\n",
    "print(a)"
   ]
  },
  {
   "cell_type": "code",
   "execution_count": 15,
   "id": "f54f8268-91e9-4588-8c7f-35afd7be8e8f",
   "metadata": {},
   "outputs": [],
   "source": [
    "#Q4. Write a python program using reduce function to compute the product of a list containing numbers\n",
    "#from 1 to 25.\n"
   ]
  },
  {
   "cell_type": "code",
   "execution_count": 14,
   "id": "a81e3d1d-9310-4bbb-9819-dbfff2afb971",
   "metadata": {},
   "outputs": [
    {
     "name": "stdout",
     "output_type": "stream",
     "text": [
      "15511210043330985984000000\n"
     ]
    }
   ],
   "source": [
    "from functools import reduce\n",
    "\n",
    "numbers = list(range(1, 26))\n",
    "product = reduce(lambda x, y: x * y, numbers)\n",
    "\n",
    "print(product)\n"
   ]
  },
  {
   "cell_type": "code",
   "execution_count": 16,
   "id": "05ce0dfb-4494-40b0-ba10-ece33fe142cd",
   "metadata": {},
   "outputs": [
    {
     "data": {
      "text/plain": [
       "[2, 3, 6, 9, 27, 60, 90, 120, 55, 46]"
      ]
     },
     "execution_count": 16,
     "metadata": {},
     "output_type": "execute_result"
    }
   ],
   "source": [
    "# Q5. Write a python program to filter the numbers in a given list that are divisible by 2 and 3 using the\n",
    "# filter function.\n",
    "[2, 3, 6, 9, 27, 60, 90, 120, 55, 46]"
   ]
  },
  {
   "cell_type": "code",
   "execution_count": 17,
   "id": "e8366fb9-03fc-47cb-afdf-34e15c56a0b8",
   "metadata": {},
   "outputs": [
    {
     "name": "stdout",
     "output_type": "stream",
     "text": [
      "[6, 60, 90, 120]\n"
     ]
    }
   ],
   "source": [
    "numbers = [2, 3, 6, 9, 27, 60, 90, 120, 55, 46]\n",
    "filtered_numbers = list(filter(lambda x: x % 2 == 0 and x % 3 == 0, numbers))\n",
    "\n",
    "print(filtered_numbers)\n"
   ]
  },
  {
   "cell_type": "code",
   "execution_count": 19,
   "id": "0b6ffe26-fc07-4cac-8b8b-28c819780f61",
   "metadata": {},
   "outputs": [],
   "source": [
    "#Q6. Write a python program to find palindromes in the given list of strings using lambda and filter\n",
    "#function.\n",
    "#['python', 'php', 'aba', 'radar', 'level']"
   ]
  },
  {
   "cell_type": "code",
   "execution_count": 20,
   "id": "c7a47d6f-9e82-4195-bdad-816c62973ac4",
   "metadata": {},
   "outputs": [
    {
     "name": "stdout",
     "output_type": "stream",
     "text": [
      "['php', 'aba', 'radar', 'level']\n"
     ]
    }
   ],
   "source": [
    "strings = ['python', 'php', 'aba', 'radar', 'level']\n",
    "\n",
    "palindromes = list(filter(lambda s: s == s[::-1], strings))\n",
    "\n",
    "print(palindromes)\n"
   ]
  },
  {
   "cell_type": "code",
   "execution_count": null,
   "id": "33805604-e021-4fac-967d-b61a7b1632f1",
   "metadata": {},
   "outputs": [],
   "source": []
  }
 ],
 "metadata": {
  "kernelspec": {
   "display_name": "Python 3 (ipykernel)",
   "language": "python",
   "name": "python3"
  },
  "language_info": {
   "codemirror_mode": {
    "name": "ipython",
    "version": 3
   },
   "file_extension": ".py",
   "mimetype": "text/x-python",
   "name": "python",
   "nbconvert_exporter": "python",
   "pygments_lexer": "ipython3",
   "version": "3.10.6"
  }
 },
 "nbformat": 4,
 "nbformat_minor": 5
}
