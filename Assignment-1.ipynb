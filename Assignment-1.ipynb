{
 "cells": [
  {
   "cell_type": "code",
   "execution_count": 5,
   "id": "eb587ee8-18b5-4ce5-822d-09fc1c84c8e3",
   "metadata": {},
   "outputs": [],
   "source": [
    "#Q1. Create one variable containing following type of data:\n",
    "#(i) string\n",
    "#(ii) list\n",
    "#(iii) float\n",
    "#(iv) tuple"
   ]
  },
  {
   "cell_type": "code",
   "execution_count": 13,
   "id": "618d9697-1d6f-4bf4-8134-f1b31e2ea048",
   "metadata": {},
   "outputs": [],
   "source": [
    "# Ans\n",
    "# String variable\n",
    "my_string = \"Hello, World!\"\n",
    "\n",
    "# List variable\n",
    "my_list = [1, 2, 3, 4, 5]\n",
    "\n",
    "# Float variable\n",
    "my_float = 3.14159\n",
    "\n",
    "# Tuple variable\n",
    "my_tuple = (1, 2, 3, 4, 5)"
   ]
  },
  {
   "cell_type": "code",
   "execution_count": 9,
   "id": "d1c566b2-b636-4dc4-a5ef-9217e27b3d3f",
   "metadata": {},
   "outputs": [],
   "source": [
    "#Q2. Given are some following variables containing data:\n",
    "#(i) var1 = ‘ ‘\n",
    "#(ii) var2 = ‘[ DS , ML , Python]’\n",
    "#(iii) var3 = [ ‘DS’ , ’ML’ , ‘Python’ ]\n",
    "#(iv) var4 = 1.\n",
    "\n",
    "#What will be the data type of the above given variable."
   ]
  },
  {
   "cell_type": "code",
   "execution_count": 12,
   "id": "1ca60a0a-17a0-4f17-9113-8c4cb3df91cd",
   "metadata": {},
   "outputs": [],
   "source": [
    "# Ans\n",
    "#var1 is a string.\n",
    "#var2 is a string.\n",
    "#var3 is a list.\n",
    "#var4 is an integer."
   ]
  },
  {
   "cell_type": "code",
   "execution_count": 16,
   "id": "9458065b-f7e1-4805-b549-92f7229a0019",
   "metadata": {},
   "outputs": [],
   "source": [
    "#Q3. Explain the use of the following operators using an example:\n",
    "#(i) /\n",
    "#(ii) %\n",
    "#(iii) //\n",
    "#(iv) **"
   ]
  },
  {
   "cell_type": "code",
   "execution_count": 19,
   "id": "aa492432-686c-4a2e-ba8a-37793a653fe0",
   "metadata": {},
   "outputs": [],
   "source": [
    "# Ans\n",
    "#(i) / (Division Operator)\n",
    "#(ii) % (Modulo Operator)\n",
    "#(iii) // (Floor Division Operator)\n",
    "#(iv) ** (Exponentiation Operator)"
   ]
  },
  {
   "cell_type": "code",
   "execution_count": 21,
   "id": "57b0f18c-fd5c-4567-85d8-0e7997b86c46",
   "metadata": {},
   "outputs": [],
   "source": [
    "#Q4. Create a list of length 10 of your choice containing multiple types of data. Using for loop print the\n",
    "#element and its data type."
   ]
  },
  {
   "cell_type": "code",
   "execution_count": 24,
   "id": "82e0bb05-b39d-43d7-a7af-c19337094f1c",
   "metadata": {},
   "outputs": [
    {
     "name": "stdout",
     "output_type": "stream",
     "text": [
      "i: 1 | Data Type: <class 'int'>\n",
      "i: Hello | Data Type: <class 'str'>\n",
      "i: 3.14 | Data Type: <class 'float'>\n",
      "i: True | Data Type: <class 'bool'>\n",
      "i: [1, 2, 3] | Data Type: <class 'list'>\n",
      "i: {'name': 'John', 'age': 30} | Data Type: <class 'dict'>\n",
      "i: None | Data Type: <class 'NoneType'>\n",
      "i: (4, 5, 6) | Data Type: <class 'tuple'>\n",
      "i: World | Data Type: <class 'str'>\n",
      "i: False | Data Type: <class 'bool'>\n"
     ]
    }
   ],
   "source": [
    "my_list = [1, \"Hello\", 3.14, True, [1, 2, 3], {\"name\": \"John\", \"age\": 30}, None, (4, 5, 6), \"World\", False]\n",
    "\n",
    "for i in my_list:\n",
    "    print(f\"i: {i} | Data Type: {type(i)}\")\n"
   ]
  },
  {
   "cell_type": "code",
   "execution_count": 25,
   "id": "43f31c32-fdc1-4366-89df-41706a471a1a",
   "metadata": {},
   "outputs": [],
   "source": [
    "# Q5. Using a while loop, verify if the number A is purely divisible by number B and if so then how many\n",
    "#times it can be divisible."
   ]
  },
  {
   "cell_type": "code",
   "execution_count": 31,
   "id": "19ab46f5-d1a0-4ff4-95bd-4292ca6d3eb5",
   "metadata": {},
   "outputs": [
    {
     "name": "stdout",
     "output_type": "stream",
     "text": [
      "A is divisible by B 1 times.\n"
     ]
    }
   ],
   "source": [
    "A = 24\n",
    "B = 4\n",
    "\n",
    "count = 0\n",
    "\n",
    "while A % B == 0:\n",
    "    A = A//B\n",
    "    count +=1\n",
    "\n",
    "print(f\"A is divisible by B {count} times.\")"
   ]
  },
  {
   "cell_type": "code",
   "execution_count": 32,
   "id": "c2921aae-b55b-479a-a8c6-375c84fe4706",
   "metadata": {},
   "outputs": [],
   "source": [
    "# Q6. Create a list containing 25 int type data. Using for loop and if-else condition print if the element is\n",
    "#divisible by 3 or not."
   ]
  },
  {
   "cell_type": "code",
   "execution_count": 33,
   "id": "e1a12928-39c6-400e-afa2-d8c1061ded3c",
   "metadata": {},
   "outputs": [
    {
     "name": "stdout",
     "output_type": "stream",
     "text": [
      "1 is not divisible by 3.\n",
      "2 is not divisible by 3.\n",
      "3 is divisible by 3.\n",
      "4 is not divisible by 3.\n",
      "5 is not divisible by 3.\n",
      "6 is divisible by 3.\n",
      "7 is not divisible by 3.\n",
      "8 is not divisible by 3.\n",
      "9 is divisible by 3.\n",
      "10 is not divisible by 3.\n",
      "11 is not divisible by 3.\n",
      "12 is divisible by 3.\n",
      "13 is not divisible by 3.\n",
      "14 is not divisible by 3.\n",
      "15 is divisible by 3.\n",
      "16 is not divisible by 3.\n",
      "17 is not divisible by 3.\n",
      "18 is divisible by 3.\n",
      "19 is not divisible by 3.\n",
      "20 is not divisible by 3.\n",
      "21 is divisible by 3.\n",
      "22 is not divisible by 3.\n",
      "23 is not divisible by 3.\n",
      "24 is divisible by 3.\n",
      "25 is not divisible by 3.\n"
     ]
    }
   ],
   "source": [
    "my_list = [1, 2, 3, 4, 5, 6, 7, 8, 9, 10,\n",
    "           11, 12, 13, 14, 15, 16, 17, 18, 19, 20,\n",
    "           21, 22, 23, 24, 25]\n",
    "\n",
    "for i in my_list:\n",
    "    if i % 3 == 0:\n",
    "        print(f\"{i} is divisible by 3.\")\n",
    "    else:\n",
    "        print(f\"{i} is not divisible by 3.\")\n"
   ]
  },
  {
   "cell_type": "code",
   "execution_count": 34,
   "id": "2c5ebd19-5a9f-4851-9eb6-e2956b77b4d5",
   "metadata": {},
   "outputs": [],
   "source": [
    "# Q7. What do you understand about mutable and immutable data types? Give examples for both showing\n",
    "# this property."
   ]
  },
  {
   "cell_type": "code",
   "execution_count": 35,
   "id": "2665de90-840e-40d4-b129-9fe94cc130fc",
   "metadata": {},
   "outputs": [],
   "source": [
    "#Immutable Data Types: Immutable data types are those whose values cannot be modified after they are created. \n",
    "#Example: Strings\n",
    "\n",
    "#Mutable Data Types: Mutable data types are those that can be modified after they are created. \n",
    "#Example: Lists"
   ]
  },
  {
   "cell_type": "code",
   "execution_count": null,
   "id": "5ff34c4b-792f-452d-a216-7f1dceade924",
   "metadata": {},
   "outputs": [],
   "source": []
  }
 ],
 "metadata": {
  "kernelspec": {
   "display_name": "Python 3 (ipykernel)",
   "language": "python",
   "name": "python3"
  },
  "language_info": {
   "codemirror_mode": {
    "name": "ipython",
    "version": 3
   },
   "file_extension": ".py",
   "mimetype": "text/x-python",
   "name": "python",
   "nbconvert_exporter": "python",
   "pygments_lexer": "ipython3",
   "version": "3.10.6"
  }
 },
 "nbformat": 4,
 "nbformat_minor": 5
}
