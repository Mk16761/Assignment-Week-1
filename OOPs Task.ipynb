{
 "cells": [
  {
   "cell_type": "code",
   "execution_count": 2,
   "id": "13b135ba-cae4-4203-acac-e6753c27d7dc",
   "metadata": {},
   "outputs": [],
   "source": [
    "#Q1, Create a vehicle class with an init method having instance variables as name_of_vehicle, max_speed\n",
    "# and average_of_vehicle."
   ]
  },
  {
   "cell_type": "code",
   "execution_count": 3,
   "id": "6bd80493-1f63-4f11-b504-0bf801093316",
   "metadata": {},
   "outputs": [
    {
     "name": "stdout",
     "output_type": "stream",
     "text": [
      "Car\n",
      "200\n",
      "50\n"
     ]
    }
   ],
   "source": [
    "class Vehicle:\n",
    "    def __init__(self, name_of_vehicle, max_speed, average_of_vehicle):\n",
    "        self.name_of_vehicle = name_of_vehicle\n",
    "        self.max_speed = max_speed\n",
    "        self.average_of_vehicle = average_of_vehicle\n",
    "\n",
    "# Creating an instance of the Vehicle class\n",
    "car = Vehicle(\"Car\", 200, 50)\n",
    "\n",
    "# Accessing the instance variables\n",
    "print(car.name_of_vehicle)        # Output: Car\n",
    "print(car.max_speed)              # Output: 200\n",
    "print(car.average_of_vehicle)     # Output: 50\n"
   ]
  },
  {
   "cell_type": "code",
   "execution_count": 4,
   "id": "d55be6ed-cdaa-49f6-ab3d-e919653156e7",
   "metadata": {},
   "outputs": [],
   "source": [
    "# Q2. Create a child class car from the vehicle class created in Que 1, which will inherit the vehicle class.\n",
    "#Create a method named seating_capacity which takes capacity as an argument and returns the name of\n",
    "# the vehicle and its seating capacity."
   ]
  },
  {
   "cell_type": "code",
   "execution_count": 5,
   "id": "5c99560a-39f1-4896-8cc9-9c51c7ad3dec",
   "metadata": {},
   "outputs": [
    {
     "name": "stdout",
     "output_type": "stream",
     "text": [
      "Car\n",
      "200\n",
      "50\n",
      "The Car has a seating capacity of 5.\n"
     ]
    }
   ],
   "source": [
    "class Vehicle:\n",
    "    def __init__(self, name_of_vehicle, max_speed, average_of_vehicle):\n",
    "        self.name_of_vehicle = name_of_vehicle\n",
    "        self.max_speed = max_speed\n",
    "        self.average_of_vehicle = average_of_vehicle\n",
    "\n",
    "class Car(Vehicle):\n",
    "    def seating_capacity(self, capacity):\n",
    "        return f\"The {self.name_of_vehicle} has a seating capacity of {capacity}.\"\n",
    "\n",
    "# Creating an instance of the Car class\n",
    "car = Car(\"Car\", 200, 50)\n",
    "\n",
    "# Accessing the instance variables from the parent class\n",
    "print(car.name_of_vehicle)           \n",
    "print(car.max_speed)                \n",
    "print(car.average_of_vehicle)       \n",
    "\n",
    "# Calling the seating_capacity method from the child class\n",
    "print(car.seating_capacity(5))    "
   ]
  },
  {
   "cell_type": "code",
   "execution_count": 6,
   "id": "52a43b0f-e84d-4457-b3af-ce934b5a1dd3",
   "metadata": {},
   "outputs": [],
   "source": [
    "# Q3. What is multiple inheritance? Write a python code to demonstrate multiple inheritance."
   ]
  },
  {
   "cell_type": "code",
   "execution_count": 7,
   "id": "04173f71-b679-4cab-a424-524842d7e9f9",
   "metadata": {},
   "outputs": [
    {
     "name": "stdout",
     "output_type": "stream",
     "text": [
      "Method 1 from BaseClass1\n",
      "Method 2 from BaseClass2\n",
      "Method 3 from DerivedClass\n"
     ]
    }
   ],
   "source": [
    "class BaseClass1:\n",
    "    def method1(self):\n",
    "        print(\"Method 1 from BaseClass1\")\n",
    "\n",
    "class BaseClass2:\n",
    "    def method2(self):\n",
    "        print(\"Method 2 from BaseClass2\")\n",
    "\n",
    "class DerivedClass(BaseClass1, BaseClass2):\n",
    "    def method3(self):\n",
    "        print(\"Method 3 from DerivedClass\")\n",
    "\n",
    "# Creating an instance of the DerivedClass\n",
    "obj = DerivedClass()\n",
    "\n",
    "# Accessing methods from the base classes\n",
    "obj.method1()  # Output: Method 1 from BaseClass1\n",
    "obj.method2()  # Output: Method 2 from BaseClass2\n",
    "\n",
    "# Accessing method from the derived class\n",
    "obj.method3()  # Output: Method 3 from DerivedClass\n"
   ]
  },
  {
   "cell_type": "code",
   "execution_count": 8,
   "id": "a1a5c6e0-c824-4e6b-abfe-083e39f281ba",
   "metadata": {},
   "outputs": [],
   "source": [
    "#Q4. What are getter and setter in python? Create a class and create a getter and a setter method in this\n",
    "#class."
   ]
  },
  {
   "cell_type": "code",
   "execution_count": 9,
   "id": "eca33931-d615-4700-a5df-b8831b12b506",
   "metadata": {},
   "outputs": [
    {
     "name": "stdout",
     "output_type": "stream",
     "text": [
      "Alice\n",
      "25\n",
      "Bob\n",
      "30\n"
     ]
    }
   ],
   "source": [
    "class Person:\n",
    "    def __init__(self, name, age):\n",
    "        self._name = name\n",
    "        self._age = age\n",
    "\n",
    "    # Getter method for name attribute\n",
    "    def get_name(self):\n",
    "        return self._name\n",
    "\n",
    "    # Setter method for name attribute\n",
    "    def set_name(self, new_name):\n",
    "        self._name = new_name\n",
    "\n",
    "    # Getter method for age attribute\n",
    "    def get_age(self):\n",
    "        return self._age\n",
    "\n",
    "    # Setter method for age attribute\n",
    "    def set_age(self, new_age):\n",
    "        if new_age > 0:\n",
    "            self._age = new_age\n",
    "\n",
    "# Creating an instance of the Person class\n",
    "person = Person(\"Alice\", 25)\n",
    "\n",
    "# Accessing the name and age attributes using getter methods\n",
    "print(person.get_name())  # Output: Alice\n",
    "print(person.get_age())   # Output: 25\n",
    "\n",
    "# Using setter methods to update the name and age attributes\n",
    "person.set_name(\"Bob\")\n",
    "person.set_age(30)\n",
    "\n",
    "# Accessing the updated attributes using getter methods\n",
    "print(person.get_name())  # Output: Bob\n",
    "print(person.get_age())   # Output: 30\n"
   ]
  },
  {
   "cell_type": "code",
   "execution_count": 10,
   "id": "5d3ef57e-a137-4bb9-9b19-708585b7191f",
   "metadata": {},
   "outputs": [],
   "source": [
    "# Q5.What is method overriding in python? Write a python code to demonstrate method overriding."
   ]
  },
  {
   "cell_type": "code",
   "execution_count": 11,
   "id": "46220d18-266e-4b41-b982-053fb0e9887f",
   "metadata": {},
   "outputs": [
    {
     "name": "stdout",
     "output_type": "stream",
     "text": [
      "Meow\n",
      "Woof\n"
     ]
    }
   ],
   "source": [
    "class Animal:\n",
    "    def make_sound(self):\n",
    "        print(\"Animal makes a sound.\")\n",
    "\n",
    "class Cat(Animal):\n",
    "    def make_sound(self):\n",
    "        print(\"Meow\")\n",
    "\n",
    "class Dog(Animal):\n",
    "    def make_sound(self):\n",
    "        print(\"Woof\")\n",
    "\n",
    "# Creating objects of derived classes\n",
    "cat = Cat()\n",
    "dog = Dog()\n",
    "\n",
    "# Calling the overridden method\n",
    "cat.make_sound()  \n",
    "dog.make_sound()  \n"
   ]
  },
  {
   "cell_type": "code",
   "execution_count": null,
   "id": "b8acb11a-28e9-4c9b-9c08-ec88427cfbdb",
   "metadata": {},
   "outputs": [],
   "source": []
  }
 ],
 "metadata": {
  "kernelspec": {
   "display_name": "Python 3 (ipykernel)",
   "language": "python",
   "name": "python3"
  },
  "language_info": {
   "codemirror_mode": {
    "name": "ipython",
    "version": 3
   },
   "file_extension": ".py",
   "mimetype": "text/x-python",
   "name": "python",
   "nbconvert_exporter": "python",
   "pygments_lexer": "ipython3",
   "version": "3.10.6"
  }
 },
 "nbformat": 4,
 "nbformat_minor": 5
}
