{
 "cells": [
  {
   "cell_type": "code",
   "execution_count": 1,
   "id": "d0537873-11f3-4d88-af53-0d2151c40957",
   "metadata": {},
   "outputs": [],
   "source": [
    "# Q1. Which keyword is used to create a function? Create a function to return a list of odd numbers in the\n",
    "#range of 1 to 25."
   ]
  },
  {
   "cell_type": "code",
   "execution_count": 4,
   "id": "53bc76a6-4b71-4621-a3b6-329e57a7204a",
   "metadata": {},
   "outputs": [
    {
     "name": "stdout",
     "output_type": "stream",
     "text": [
      "[1, 3, 5, 7, 9, 11, 13, 15, 17, 19, 21, 23, 25]\n"
     ]
    }
   ],
   "source": [
    "def get_odd_numbers():\n",
    "    odd_numbers= []\n",
    "    for i in range(1,26):\n",
    "        if i % 2 !=0:\n",
    "            odd_numbers.append(i)\n",
    "    return odd_numbers\n",
    "Odd_Number = get_odd_numbers()\n",
    "print(Odd_Number)\n",
    "    "
   ]
  },
  {
   "cell_type": "code",
   "execution_count": 5,
   "id": "3076f1ab-8778-4d22-964f-7328687d8965",
   "metadata": {},
   "outputs": [],
   "source": [
    "# Q2. Why *args and **kwargs is used in some functions? Create a function each for *args and **kwargs\n",
    "# to demonstrate their use."
   ]
  },
  {
   "cell_type": "code",
   "execution_count": 9,
   "id": "f75ec200-f05d-4a16-837c-a7795b8eb607",
   "metadata": {},
   "outputs": [
    {
     "name": "stdout",
     "output_type": "stream",
     "text": [
      "15\n"
     ]
    }
   ],
   "source": [
    "# The *args syntax allows a function to accept any number of positional arguments. It collects these arguments into a tuple, which can be accessed within the function using the args variable name (or any other name of your choice).\n",
    "def sum_numbers(*args):\n",
    "    total = 0\n",
    "    for i in args:\n",
    "        total += i\n",
    "    return total\n",
    "\n",
    "a = sum_numbers(1, 2, 3, 4, 5)\n",
    "print(a)  \n"
   ]
  },
  {
   "cell_type": "code",
   "execution_count": 10,
   "id": "91160d0b-cd3a-4e92-83de-f8595f77e775",
   "metadata": {},
   "outputs": [
    {
     "name": "stdout",
     "output_type": "stream",
     "text": [
      "name: John\n",
      "age: 25\n",
      "city: New York\n"
     ]
    }
   ],
   "source": [
    "# The **kwargs syntax allows a function to accept any number of keyword arguments (or named arguments). It collects these arguments into a dictionary, which can be accessed within the function using the kwargs variable name (or any other name of your choice).\n",
    "\n",
    "def display_arguments(**kwargs):\n",
    "    for key, value in kwargs.items():\n",
    "        print(f\"{key}: {value}\")\n",
    "\n",
    "display_arguments(name=\"John\", age=25, city=\"New York\")\n"
   ]
  },
  {
   "cell_type": "code",
   "execution_count": 11,
   "id": "e890190d-a70d-42ed-8325-5443496ccbf9",
   "metadata": {},
   "outputs": [],
   "source": [
    "# Q3. What is an iterator in python? Name the method used to initialise the iterator object and the method\n",
    "# used for iteration. Use these methods to print the first five elements of the given list [2, 4, 6, 8, 10, 12, 14,\n",
    "# 16, 18, 20]."
   ]
  },
  {
   "cell_type": "code",
   "execution_count": 12,
   "id": "8682e15d-0049-4a58-8fa9-1bc28c364bc2",
   "metadata": {},
   "outputs": [
    {
     "name": "stdout",
     "output_type": "stream",
     "text": [
      "2\n",
      "4\n",
      "6\n",
      "8\n",
      "10\n"
     ]
    }
   ],
   "source": [
    "# an iterator is an object that allows you to iterate over a sequence of elements. It provides a way to access elements one by one without the need to store the entire sequence in memory.\n",
    "\n",
    "my_list = [2, 4, 6, 8, 10, 12, 14, 16, 18, 20]\n",
    "my_iterator = iter(my_list)\n",
    "\n",
    "for i in range(5):\n",
    "    a = next(my_iterator)\n",
    "    print(a)\n"
   ]
  },
  {
   "cell_type": "code",
   "execution_count": 15,
   "id": "812bfbe3-fea1-4fc4-9e99-901060fc14ba",
   "metadata": {},
   "outputs": [],
   "source": [
    "# Q4. What is a generator function in python? Why yield keyword is used? Give an example of a generator\n",
    "# function."
   ]
  },
  {
   "cell_type": "code",
   "execution_count": 16,
   "id": "639fc9f0-cdc4-4fd1-9ac1-2553ed606a7d",
   "metadata": {},
   "outputs": [
    {
     "name": "stdout",
     "output_type": "stream",
     "text": [
      "1\n",
      "2\n",
      "3\n",
      "4\n",
      "5\n"
     ]
    }
   ],
   "source": [
    "# a generator function is a special type of function that generates an iterator.\n",
    "\n",
    "def count_up(limit):\n",
    "    num = 1\n",
    "    while num <= limit:\n",
    "        yield num\n",
    "        num += 1\n",
    "\n",
    "# Using the generator function\n",
    "my_generator = count_up(5)\n",
    "\n",
    "for num in my_generator:\n",
    "    print(num)\n"
   ]
  },
  {
   "cell_type": "code",
   "execution_count": 17,
   "id": "5f39a9eb-da3f-4f1a-97d0-259c4006cd7d",
   "metadata": {},
   "outputs": [],
   "source": [
    "#Q5. Create a generator function for prime numbers less than 1000. Use the next() method to print the\n",
    "#first 20 prime numbers."
   ]
  },
  {
   "cell_type": "code",
   "execution_count": 18,
   "id": "7ea8b38f-b621-46c8-b61e-7e4855268323",
   "metadata": {},
   "outputs": [
    {
     "name": "stdout",
     "output_type": "stream",
     "text": [
      "2\n",
      "3\n",
      "5\n",
      "7\n",
      "11\n",
      "13\n",
      "17\n",
      "19\n",
      "23\n",
      "29\n",
      "31\n",
      "37\n",
      "41\n",
      "43\n",
      "47\n",
      "53\n",
      "59\n",
      "61\n",
      "67\n",
      "71\n"
     ]
    }
   ],
   "source": [
    "def generate_primes():\n",
    "    primes = []\n",
    "    num = 2\n",
    "    while len(primes) < 20:\n",
    "        is_prime = True\n",
    "        for prime in primes:\n",
    "            if num % prime == 0:\n",
    "                is_prime = False\n",
    "                break\n",
    "        if is_prime:\n",
    "            primes.append(num)\n",
    "            yield num\n",
    "        num += 1\n",
    "\n",
    "# Using the generator function\n",
    "prime_generator = generate_primes()\n",
    "\n",
    "for _ in range(20):\n",
    "    prime_number = next(prime_generator)\n",
    "    print(prime_number)\n"
   ]
  },
  {
   "cell_type": "code",
   "execution_count": 19,
   "id": "c4e54dd6-b47b-43c4-99ab-468ec9f8fafa",
   "metadata": {},
   "outputs": [],
   "source": [
    "# Q6. Write a python program to print the first 10 Fibonacci numbers using a while loop."
   ]
  },
  {
   "cell_type": "code",
   "execution_count": 20,
   "id": "f9401187-2dbc-4549-bfe4-4c9de75e1ec4",
   "metadata": {},
   "outputs": [
    {
     "name": "stdout",
     "output_type": "stream",
     "text": [
      "0\n",
      "1\n",
      "1\n",
      "2\n",
      "3\n",
      "5\n",
      "8\n",
      "13\n",
      "21\n",
      "34\n"
     ]
    }
   ],
   "source": [
    "def print_fibonacci():\n",
    "    a, b = 0, 1\n",
    "    count = 0\n",
    "    while count < 10:\n",
    "        print(a)\n",
    "        a, b = b, a + b\n",
    "        count += 1\n",
    "\n",
    "print_fibonacci()\n"
   ]
  },
  {
   "cell_type": "code",
   "execution_count": 21,
   "id": "f149f75e-e6c1-4741-bcf3-426dc82c10d0",
   "metadata": {},
   "outputs": [],
   "source": [
    "# Q7. Write a List Comprehension to iterate through the given string: ‘pwskills’.\n",
    "# Expected output: ['p', 'w', 's', 'k', 'i', 'l', 'l', 's']"
   ]
  },
  {
   "cell_type": "code",
   "execution_count": 23,
   "id": "e0e49399-ba3f-404b-b84c-376f2a74c974",
   "metadata": {},
   "outputs": [
    {
     "name": "stdout",
     "output_type": "stream",
     "text": [
      "['p', 'w', 's', 'k', 'i', 'l', 'l', 's']\n"
     ]
    }
   ],
   "source": [
    "string = 'pwskills'\n",
    "a = [char for char in string]\n",
    "print(a)\n"
   ]
  },
  {
   "cell_type": "code",
   "execution_count": 24,
   "id": "2408ce48-ed29-444d-a832-b70e2ad4659b",
   "metadata": {},
   "outputs": [],
   "source": [
    "# Q8. Write a python program to check whether a given number is Palindrome or not using a while loop."
   ]
  },
  {
   "cell_type": "code",
   "execution_count": 26,
   "id": "4c7e13c2-6dbe-490c-a8e1-054ecb44285a",
   "metadata": {},
   "outputs": [
    {
     "name": "stdout",
     "output_type": "stream",
     "text": [
      "12321 is a palindrome.\n"
     ]
    }
   ],
   "source": [
    "def is_palindrome(number):\n",
    "    original_number = number\n",
    "    reversed_number = 0\n",
    "    while number > 0:\n",
    "        remainder = number % 10\n",
    "        reversed_number = reversed_number * 10 + remainder\n",
    "        number //= 10\n",
    "    if original_number == reversed_number:\n",
    "        return True\n",
    "    else:\n",
    "        return False\n",
    "\n",
    "num = 12321\n",
    "if is_palindrome(num):\n",
    "    print(f\"{num} is a palindrome.\")\n",
    "else:\n",
    "    print(f\"{num} is not a palindrome.\")\n"
   ]
  },
  {
   "cell_type": "code",
   "execution_count": 28,
   "id": "971f9c45-9823-4aaf-aef6-7bc7d139307e",
   "metadata": {},
   "outputs": [],
   "source": [
    "# Q9. Write a code to print odd numbers from 1 to 100 using list comprehension.\n",
    "#Note: Use a list comprehension to create a list from 1 to 100 and use another List comprehension to filter\n",
    "#out odd numbers."
   ]
  },
  {
   "cell_type": "code",
   "execution_count": 30,
   "id": "95b028ac-4d5c-4163-b912-f7f041e2cf52",
   "metadata": {},
   "outputs": [
    {
     "name": "stdout",
     "output_type": "stream",
     "text": [
      "[1, 3, 5, 7, 9, 11, 13, 15, 17, 19, 21, 23, 25, 27, 29, 31, 33, 35, 37, 39, 41, 43, 45, 47, 49, 51, 53, 55, 57, 59, 61, 63, 65, 67, 69, 71, 73, 75, 77, 79, 81, 83, 85, 87, 89, 91, 93, 95, 97, 99]\n"
     ]
    }
   ],
   "source": [
    "odd_numbers = [i for i in range(1, 101) if i % 2 != 0]\n",
    "print(odd_numbers)\n"
   ]
  },
  {
   "cell_type": "code",
   "execution_count": null,
   "id": "4e20e00d-6bd4-4a26-81eb-adb54f78ba91",
   "metadata": {},
   "outputs": [],
   "source": []
  }
 ],
 "metadata": {
  "kernelspec": {
   "display_name": "Python 3 (ipykernel)",
   "language": "python",
   "name": "python3"
  },
  "language_info": {
   "codemirror_mode": {
    "name": "ipython",
    "version": 3
   },
   "file_extension": ".py",
   "mimetype": "text/x-python",
   "name": "python",
   "nbconvert_exporter": "python",
   "pygments_lexer": "ipython3",
   "version": "3.10.6"
  }
 },
 "nbformat": 4,
 "nbformat_minor": 5
}
